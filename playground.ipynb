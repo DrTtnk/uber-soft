{
 "cells": [
  {
   "cell_type": "code",
   "execution_count": 3,
   "metadata": {
    "collapsed": true
   },
   "outputs": [
    {
     "ename": "ModuleNotFoundError",
     "evalue": "No module named 'meshplot'",
     "output_type": "error",
     "traceback": [
      "\u001B[0;31m---------------------------------------------------------------------------\u001B[0m",
      "\u001B[0;31mModuleNotFoundError\u001B[0m                       Traceback (most recent call last)",
      "\u001B[0;32m/tmp/ipykernel_73653/298862100.py\u001B[0m in \u001B[0;36m<module>\u001B[0;34m\u001B[0m\n\u001B[0;32m----> 1\u001B[0;31m \u001B[0;32mimport\u001B[0m \u001B[0mmeshplot\u001B[0m \u001B[0;32mas\u001B[0m \u001B[0mmp\u001B[0m\u001B[0;34m\u001B[0m\u001B[0;34m\u001B[0m\u001B[0m\n\u001B[0m",
      "\u001B[0;31mModuleNotFoundError\u001B[0m: No module named 'meshplot'"
     ]
    }
   ],
   "source": [
    "import meshplot as mp"
   ]
  },
  {
   "cell_type": "code",
   "execution_count": null,
   "metadata": {},
   "outputs": [],
   "source": [
    "import numpy as np\n",
    "import trimesh\n",
    "\n",
    "from trimesh import proximity, sample"
   ]
  },
  {
   "cell_type": "code",
   "execution_count": null,
   "metadata": {},
   "outputs": [],
   "source": [
    "# Utils \n",
    "\n",
    "def barycentric_coords(tris, P):\n",
    "    \"\"\"\n",
    "    Return the barycentric coordinates of a point with respect to a triangle.\n",
    "    \"\"\"\n",
    "    v0 = tris[2] - tris[0]\n",
    "    v1 = tris[1] - tris[0]\n",
    "    v2 = P - tris[0]\n",
    "    d00 = np.dot(v0, v0)\n",
    "    d01 = np.dot(v0, v1)\n",
    "    d11 = np.dot(v1, v1)\n",
    "    d20 = np.dot(v2, v0)\n",
    "    d21 = np.dot(v2, v1)\n",
    "    invDenom = d00 * d11 - d01 * d01\n",
    "    v = (d11 * d20 - d01 * d21) * invDenom\n",
    "    w = (d00 * d21 - d01 * d20) * invDenom\n",
    "    u = 1.0 - v - w\n",
    "    return np.array([u, v, w])\n"
   ]
  },
  {
   "cell_type": "code",
   "execution_count": null,
   "metadata": {},
   "outputs": [],
   "source": [
    "mesh_name = 'uneven_plane'\n",
    "mesh = trimesh.load(f'./data/{mesh_name}.obj')\n",
    "hair = trimesh.load(f'./data/{mesh_name}_fur.obj')\n",
    "\n",
    "amount = 1\n",
    "\n",
    "# sample point cloud\n",
    "# child_roots = mesh.sample_points_poisson_disk(amount, 1.5)\n",
    "child_roots, faces = sample.sample_surface(mesh, amount)\n",
    "child_normals = mesh.face_normals[faces]"
   ]
  },
  {
   "cell_type": "code",
   "execution_count": null,
   "metadata": {},
   "outputs": [],
   "source": [
    "strand_len = 5\n",
    "strands = np.array(np.split(hair.vertices, hair.vertices.shape[0] // strand_len))\n",
    "\n",
    "root_mesh = trimesh.Trimesh(vertices=strands[:,0])\n",
    "parents_pos, parents_ids = root_mesh.kdtree.query(child_roots, k=3)\n",
    "\n",
    "parent_roots = np.array(root_mesh.vertices[parents_ids])"
   ]
  },
  {
   "cell_type": "code",
   "execution_count": null,
   "metadata": {},
   "outputs": [],
   "source": [
    "#interpolate between parent and child\n",
    "bary = barycentric_coords(parent_roots[0], child_roots[0]\n",
    "bary"
   ]
  },
  {
   "cell_type": "code",
   "execution_count": null,
   "metadata": {},
   "outputs": [],
   "source": [
    "strands_start = strands[::,1::]\n",
    "strands_end = strands[::,:-1:]\n",
    "\n",
    "# render the trimesh with meshplot\n",
    "p = mp.plot(mesh.vertices, mesh.faces)\n",
    "p.add_points(child_roots, c='red', shading=dict(point_size=.2))\n",
    "\n",
    "p.add_points(strands[:,0], c='green', shading=dict(point_size=.05))\n",
    "p.add_points(np.concatenate(parent_roots), c='blue', shading=dict(point_size=.2))\n",
    "\n",
    "p.add_lines(np.concatenate(strands_start), \n",
    "            np.concatenate(strands_end), \n",
    "            shading=dict(line_width=.005, line_color='green'))\n",
    "\n",
    "p.add_lines(child_roots,\n",
    "            child_roots + child_normals,\n",
    "            shading=dict(line_width=.05, line_color='red'))"
   ]
  },
  {
   "cell_type": "code",
   "execution_count": null,
   "metadata": {},
   "outputs": [],
   "source": []
  }
 ],
 "metadata": {
  "kernelspec": {
   "display_name": "Python 3",
   "language": "python",
   "name": "python3"
  },
  "language_info": {
   "codemirror_mode": {
    "name": "ipython",
    "version": 3
   },
   "file_extension": ".py",
   "mimetype": "text/x-python",
   "name": "python",
   "nbconvert_exporter": "python",
   "pygments_lexer": "ipython3",
   "version": "3.8.12"
  }
 },
 "nbformat": 4,
 "nbformat_minor": 0
}