{
 "cells": [
  {
   "cell_type": "code",
   "execution_count": 1,
   "metadata": {
    "collapsed": true
   },
   "outputs": [],
   "source": [
    "import meshplot as mp"
   ]
  },
  {
   "cell_type": "code",
   "execution_count": 4,
   "metadata": {},
   "outputs": [],
   "source": [
    "import numpy as np\n",
    "import trimesh\n",
    "\n",
    "from trimesh import proximity"
   ]
  },
  {
   "cell_type": "code",
   "execution_count": 5,
   "metadata": {},
   "outputs": [
    {
     "name": "stdout",
     "output_type": "stream",
     "text": [
      "Mesh loaded: 2111 vertices, 3936 faces\n"
     ]
    }
   ],
   "source": [
    "mesh = trimesh.load('./data/monkey.obj')\n",
    "\n",
    "print(f\"Mesh loaded: {mesh.vertices.shape[0]} vertices, {mesh.faces.shape[0]} faces\")"
   ]
  },
  {
   "cell_type": "code",
   "execution_count": 157,
   "metadata": {},
   "outputs": [],
   "source": [
    "import open3d as o3d\n",
    "\n",
    "mesh = o3d.io.read_triangle_mesh('./data/monkey.obj')\n",
    "\n",
    "amount = 5\n",
    "\n",
    "# sample point cloud\n",
    "# points = mesh.sample_points_poisson_disk(amount, 1.5)\n",
    "points = mesh.sample_points_uniformly(amount)\n"
   ]
  },
  {
   "cell_type": "code",
   "execution_count": 158,
   "metadata": {},
   "outputs": [
    {
     "data": {
      "text/plain": [
       "[(array([0.00948285, 0.01236058, 0.02512565]), array([9047, 5593,  246])),\n",
       " (array([0.02077337, 0.02412071, 0.03970825]), array([1605, 5844, 8692])),\n",
       " (array([0.02008973, 0.03090559, 0.03415264]), array([7115, 2166, 6505])),\n",
       " (array([0.03253705, 0.03608607, 0.03632832]), array([2928,  942, 9445])),\n",
       " (array([0.00856741, 0.02627991, 0.0323695 ]), array([8703, 3785, 1579]))]"
      ]
     },
     "execution_count": 158,
     "metadata": {},
     "output_type": "execute_result"
    }
   ],
   "source": [
    "hair = trimesh.load('./data/monkey_fur.obj')\n",
    "\n",
    "# Group hair's vertices in block of 5\n",
    "strands = np.array_split(hair.vertices, hair.vertices.shape[0] // 5)\n",
    "\n",
    "strands_start = np.array([s[1:] for s in strands])\n",
    "strands_end = np.array([s[:-1] for s in strands])\n",
    "roots = np.array([s[0] for s in strands])\n",
    "\n",
    "# Build a mesh from the strands\n",
    "kd = trimesh.Trimesh(vertices=roots).kdtree\n",
    "parents = [kd.query(p, k=3) for p in np.asarray(points.points)]\n",
    "\n",
    "parents\n",
    "\n"
   ]
  },
  {
   "cell_type": "code",
   "execution_count": 159,
   "metadata": {},
   "outputs": [
    {
     "data": {
      "application/vnd.jupyter.widget-view+json": {
       "model_id": "1d4a649fb3a74f5886c7158bbb1e8d89",
       "version_major": 2,
       "version_minor": 0
      },
      "text/plain": [
       "Renderer(camera=PerspectiveCamera(children=(DirectionalLight(color='white', intensity=0.6, position=(0.0, 0.24…"
      ]
     },
     "metadata": {},
     "output_type": "display_data"
    },
    {
     "data": {
      "text/plain": [
       "3"
      ]
     },
     "execution_count": 159,
     "metadata": {},
     "output_type": "execute_result"
    }
   ],
   "source": [
    "# render the trimesh with meshplot\n",
    "p = mp.plot(np.asarray(mesh.vertices), np.asarray(mesh.triangles))\n",
    "p.add_points(np.asarray(points.points), c='red', shading=dict(point_size=.01))\n",
    "\n",
    "p.add_points(roots, c='green', shading=dict(point_size=.05))\n",
    "p.add_lines(np.concatenate(strands_start), np.concatenate(strands_end), shading=dict(line_width=.005))"
   ]
  },
  {
   "cell_type": "code",
   "execution_count": null,
   "metadata": {},
   "outputs": [],
   "source": []
  }
 ],
 "metadata": {
  "kernelspec": {
   "display_name": "Python 3",
   "language": "python",
   "name": "python3"
  },
  "language_info": {
   "codemirror_mode": {
    "name": "ipython",
    "version": 3
   },
   "file_extension": ".py",
   "mimetype": "text/x-python",
   "name": "python",
   "nbconvert_exporter": "python",
   "pygments_lexer": "ipython3",
   "version": "3.8.12"
  }
 },
 "nbformat": 4,
 "nbformat_minor": 0
}