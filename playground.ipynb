{
 "cells": [
  {
   "cell_type": "code",
   "execution_count": 185,
   "metadata": {
    "collapsed": true
   },
   "outputs": [],
   "source": [
    "import meshplot as mp"
   ]
  },
  {
   "cell_type": "code",
   "execution_count": 186,
   "metadata": {},
   "outputs": [],
   "source": [
    "import numpy as np\n",
    "import trimesh\n",
    "\n",
    "from trimesh import proximity, sample"
   ]
  },
  {
   "cell_type": "code",
   "execution_count": 196,
   "metadata": {},
   "outputs": [],
   "source": [
    "# Utils \n",
    "\n",
    "def barycentric_coords(tris, P):\n",
    "    \"\"\"\n",
    "    Return the barycentric coordinates of a point with respect to a triangle.\n",
    "    \"\"\"\n",
    "    v0 = tris[2] - tris[0]\n",
    "    v1 = tris[1] - tris[0]\n",
    "    v2 = P - tris[0]\n",
    "    d00 = np.dot(v0, v0)\n",
    "    d01 = np.dot(v0, v1)\n",
    "    d11 = np.dot(v1, v1)\n",
    "    d20 = np.dot(v2, v0)\n",
    "    d21 = np.dot(v2, v1)\n",
    "    denom = d00 * d11 - d01 * d01\n",
    "    v = (d11 * d20 - d01 * d21) / denom\n",
    "    w = (d00 * d21 - d01 * d20) / denom\n",
    "    u = 1.0 - v - w\n",
    "    return np.array([u, v, w])\n"
   ]
  },
  {
   "cell_type": "code",
   "execution_count": 242,
   "metadata": {},
   "outputs": [
    {
     "name": "stderr",
     "output_type": "stream",
     "text": [
      "unable to load materials from: monkey_fur.mtl\n"
     ]
    }
   ],
   "source": [
    "mesh_name = 'monkey'\n",
    "mesh = trimesh.load(f'./data/{mesh_name}.obj')\n",
    "hair = trimesh.load(f'./data/{mesh_name}_fur.obj')\n",
    "\n",
    "amount = 2000\n",
    "\n",
    "# sample point cloud\n",
    "# child_roots = mesh.sample_points_poisson_disk(amount, 1.5)\n",
    "child_roots, faces = sample.sample_surface(mesh, amount)\n",
    "child_normals = mesh.face_normals[faces]"
   ]
  },
  {
   "cell_type": "code",
   "execution_count": 243,
   "metadata": {},
   "outputs": [],
   "source": [
    "from scipy.spatial import cKDTree\n",
    "\n",
    "strand_len = 5\n",
    "strands = np.array(np.split(hair.vertices, hair.vertices.shape[0] // strand_len))\n",
    "\n",
    "tree = cKDTree(strands[:,0])\n",
    "parents_pos, parents_ids = tree.query(child_roots, k=3)\n",
    "\n",
    "parent_roots = np.array(strands[parents_ids])"
   ]
  },
  {
   "cell_type": "code",
   "execution_count": 244,
   "metadata": {},
   "outputs": [],
   "source": [
    "weights = [barycentric_coords(p[:, 0], c) for p, c in zip(parent_roots, child_roots)]\n",
    "\n",
    "childStrands = np.array([b[0] * (t[0] - t[0][0]) \n",
    "                       + b[1] * (t[1] - t[1][0]) \n",
    "                       + b[2] * (t[2] - t[2][0]) + c for b, t, c in zip(weights, parent_roots, child_roots)])"
   ]
  },
  {
   "cell_type": "code",
   "execution_count": 247,
   "metadata": {},
   "outputs": [
    {
     "data": {
      "application/vnd.jupyter.widget-view+json": {
       "model_id": "c8e1d49c9a414a25b47d33c490f47cb4",
       "version_major": 2,
       "version_minor": 0
      },
      "text/plain": [
       "Renderer(camera=PerspectiveCamera(children=(DirectionalLight(color='white', intensity=0.6, position=(0.0, 0.24…"
      ]
     },
     "metadata": {},
     "output_type": "display_data"
    },
    {
     "data": {
      "text/plain": [
       "2"
      ]
     },
     "execution_count": 247,
     "metadata": {},
     "output_type": "execute_result"
    }
   ],
   "source": [
    "strands_start = strands[::,1::]\n",
    "strands_end = strands[::,:-1:]\n",
    "\n",
    "childStrands_start = childStrands[:,1::]\n",
    "childStrands_end = childStrands[:,:-1:]\n",
    "\n",
    "# render the trimesh with meshplot\n",
    "p = mp.plot(mesh.vertices, mesh.faces)\n",
    "p.add_points(child_roots, c='red', shading=dict(point_size=.2))\n",
    "\n",
    "# p.add_points(strands[:,0],                    c='green', shading=dict(point_size=.05))\n",
    "# p.add_points(np.concatenate(np.concatenate(parent_roots)), c='blue',  shading=dict(point_size=.2))\n",
    "# p.add_points(np.concatenate(childStrands),    c='red',   shading=dict(point_size=.2))\n",
    "\n",
    "# p.add_lines(np.concatenate(strands_start), \n",
    "#             np.concatenate(strands_end), \n",
    "#             shading=dict(line_width=.005, line_color='green'))\n",
    "\n",
    "p.add_lines(np.concatenate(childStrands_start),\n",
    "            np.concatenate(childStrands_end),\n",
    "            shading=dict(line_width=.005, line_color='red'))"
   ]
  },
  {
   "cell_type": "code",
   "execution_count": null,
   "metadata": {},
   "outputs": [],
   "source": []
  }
 ],
 "metadata": {
  "kernelspec": {
   "display_name": "Python 3",
   "language": "python",
   "name": "python3"
  },
  "language_info": {
   "codemirror_mode": {
    "name": "ipython",
    "version": 3
   },
   "file_extension": ".py",
   "mimetype": "text/x-python",
   "name": "python",
   "nbconvert_exporter": "python",
   "pygments_lexer": "ipython3",
   "version": "3.8.12"
  }
 },
 "nbformat": 4,
 "nbformat_minor": 0
}